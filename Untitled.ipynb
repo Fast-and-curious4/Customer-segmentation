{
 "cells": [
  {
   "cell_type": "code",
   "execution_count": 1,
   "id": "41c38589",
   "metadata": {},
   "outputs": [],
   "source": [
    "import pandas as pd\n",
    "import numpy as np\n",
    "import seaborn as sns\n",
    "import matplotlib.pyplot as plt\n",
    "import datetime\n",
    "from scipy import stats\n",
    "from sklearn.cluster import KMeans\n",
    "from sklearn.preprocessing import OneHotEncoder\n",
    "from sklearn.preprocessing import StandardScaler"
   ]
  },
  {
   "cell_type": "code",
   "execution_count": 2,
   "id": "ea4d738f",
   "metadata": {},
   "outputs": [],
   "source": [
    "import warnings\n",
    "warnings.filterwarnings('ignore')"
   ]
  },
  {
   "cell_type": "code",
   "execution_count": 3,
   "id": "73e3704e",
   "metadata": {},
   "outputs": [
    {
     "data": {
      "text/html": [
       "<div>\n",
       "<style scoped>\n",
       "    .dataframe tbody tr th:only-of-type {\n",
       "        vertical-align: middle;\n",
       "    }\n",
       "\n",
       "    .dataframe tbody tr th {\n",
       "        vertical-align: top;\n",
       "    }\n",
       "\n",
       "    .dataframe thead th {\n",
       "        text-align: right;\n",
       "    }\n",
       "</style>\n",
       "<table border=\"1\" class=\"dataframe\">\n",
       "  <thead>\n",
       "    <tr style=\"text-align: right;\">\n",
       "      <th></th>\n",
       "      <th>InvoiceNo</th>\n",
       "      <th>StockCode</th>\n",
       "      <th>Description</th>\n",
       "      <th>Quantity</th>\n",
       "      <th>InvoiceDate</th>\n",
       "      <th>UnitPrice</th>\n",
       "      <th>CustomerID</th>\n",
       "      <th>Country</th>\n",
       "    </tr>\n",
       "  </thead>\n",
       "  <tbody>\n",
       "    <tr>\n",
       "      <th>0</th>\n",
       "      <td>536365</td>\n",
       "      <td>85123A</td>\n",
       "      <td>WHITE HANGING HEART T-LIGHT HOLDER</td>\n",
       "      <td>6</td>\n",
       "      <td>2010-12-01 08:26:00</td>\n",
       "      <td>2.55</td>\n",
       "      <td>17850.0</td>\n",
       "      <td>United Kingdom</td>\n",
       "    </tr>\n",
       "    <tr>\n",
       "      <th>1</th>\n",
       "      <td>536365</td>\n",
       "      <td>71053</td>\n",
       "      <td>WHITE METAL LANTERN</td>\n",
       "      <td>6</td>\n",
       "      <td>2010-12-01 08:26:00</td>\n",
       "      <td>3.39</td>\n",
       "      <td>17850.0</td>\n",
       "      <td>United Kingdom</td>\n",
       "    </tr>\n",
       "    <tr>\n",
       "      <th>2</th>\n",
       "      <td>536365</td>\n",
       "      <td>84406B</td>\n",
       "      <td>CREAM CUPID HEARTS COAT HANGER</td>\n",
       "      <td>8</td>\n",
       "      <td>2010-12-01 08:26:00</td>\n",
       "      <td>2.75</td>\n",
       "      <td>17850.0</td>\n",
       "      <td>United Kingdom</td>\n",
       "    </tr>\n",
       "    <tr>\n",
       "      <th>3</th>\n",
       "      <td>536365</td>\n",
       "      <td>84029G</td>\n",
       "      <td>KNITTED UNION FLAG HOT WATER BOTTLE</td>\n",
       "      <td>6</td>\n",
       "      <td>2010-12-01 08:26:00</td>\n",
       "      <td>3.39</td>\n",
       "      <td>17850.0</td>\n",
       "      <td>United Kingdom</td>\n",
       "    </tr>\n",
       "    <tr>\n",
       "      <th>4</th>\n",
       "      <td>536365</td>\n",
       "      <td>84029E</td>\n",
       "      <td>RED WOOLLY HOTTIE WHITE HEART.</td>\n",
       "      <td>6</td>\n",
       "      <td>2010-12-01 08:26:00</td>\n",
       "      <td>3.39</td>\n",
       "      <td>17850.0</td>\n",
       "      <td>United Kingdom</td>\n",
       "    </tr>\n",
       "  </tbody>\n",
       "</table>\n",
       "</div>"
      ],
      "text/plain": [
       "  InvoiceNo StockCode                          Description  Quantity  \\\n",
       "0    536365    85123A   WHITE HANGING HEART T-LIGHT HOLDER         6   \n",
       "1    536365     71053                  WHITE METAL LANTERN         6   \n",
       "2    536365    84406B       CREAM CUPID HEARTS COAT HANGER         8   \n",
       "3    536365    84029G  KNITTED UNION FLAG HOT WATER BOTTLE         6   \n",
       "4    536365    84029E       RED WOOLLY HOTTIE WHITE HEART.         6   \n",
       "\n",
       "          InvoiceDate  UnitPrice  CustomerID         Country  \n",
       "0 2010-12-01 08:26:00       2.55     17850.0  United Kingdom  \n",
       "1 2010-12-01 08:26:00       3.39     17850.0  United Kingdom  \n",
       "2 2010-12-01 08:26:00       2.75     17850.0  United Kingdom  \n",
       "3 2010-12-01 08:26:00       3.39     17850.0  United Kingdom  \n",
       "4 2010-12-01 08:26:00       3.39     17850.0  United Kingdom  "
      ]
     },
     "execution_count": 3,
     "metadata": {},
     "output_type": "execute_result"
    }
   ],
   "source": [
    "df=pd.read_excel(\"Online Retail.xlsx\")\n",
    "df.head()"
   ]
  },
  {
   "cell_type": "markdown",
   "id": "a1c3b4d5",
   "metadata": {},
   "source": [
    "### Exploratory Data Analysis "
   ]
  },
  {
   "cell_type": "code",
   "execution_count": 4,
   "id": "ebd53ee9",
   "metadata": {},
   "outputs": [
    {
     "data": {
      "text/plain": [
       "25900"
      ]
     },
     "execution_count": 4,
     "metadata": {},
     "output_type": "execute_result"
    }
   ],
   "source": [
    "df['InvoiceNo'].nunique()"
   ]
  },
  {
   "cell_type": "code",
   "execution_count": 5,
   "id": "6ffd387c",
   "metadata": {},
   "outputs": [
    {
     "data": {
      "text/plain": [
       "(541909, 8)"
      ]
     },
     "execution_count": 5,
     "metadata": {},
     "output_type": "execute_result"
    }
   ],
   "source": [
    "df.shape"
   ]
  },
  {
   "cell_type": "code",
   "execution_count": 6,
   "id": "3df0dda8",
   "metadata": {},
   "outputs": [
    {
     "data": {
      "text/plain": [
       "4372"
      ]
     },
     "execution_count": 6,
     "metadata": {},
     "output_type": "execute_result"
    }
   ],
   "source": [
    "df['CustomerID'].nunique()"
   ]
  },
  {
   "cell_type": "code",
   "execution_count": 7,
   "id": "674fb3d1",
   "metadata": {},
   "outputs": [
    {
     "data": {
      "text/plain": [
       "InvoiceNo              object\n",
       "StockCode              object\n",
       "Description            object\n",
       "Quantity                int64\n",
       "InvoiceDate    datetime64[ns]\n",
       "UnitPrice             float64\n",
       "CustomerID            float64\n",
       "Country                object\n",
       "dtype: object"
      ]
     },
     "execution_count": 7,
     "metadata": {},
     "output_type": "execute_result"
    }
   ],
   "source": [
    "df.dtypes"
   ]
  },
  {
   "cell_type": "code",
   "execution_count": 8,
   "id": "13084d46",
   "metadata": {},
   "outputs": [
    {
     "data": {
      "text/plain": [
       "InvoiceNo           0\n",
       "StockCode           0\n",
       "Description      1454\n",
       "Quantity            0\n",
       "InvoiceDate         0\n",
       "UnitPrice           0\n",
       "CustomerID     135080\n",
       "Country             0\n",
       "dtype: int64"
      ]
     },
     "execution_count": 8,
     "metadata": {},
     "output_type": "execute_result"
    }
   ],
   "source": [
    "df.isnull().sum()"
   ]
  },
  {
   "cell_type": "code",
   "execution_count": 9,
   "id": "12989f15",
   "metadata": {},
   "outputs": [],
   "source": [
    "df.drop('Description',axis=1,inplace=True)"
   ]
  },
  {
   "cell_type": "code",
   "execution_count": 10,
   "id": "e38557aa",
   "metadata": {},
   "outputs": [
    {
     "data": {
      "text/plain": [
       "38"
      ]
     },
     "execution_count": 10,
     "metadata": {},
     "output_type": "execute_result"
    }
   ],
   "source": [
    "df['Country'].nunique()"
   ]
  },
  {
   "cell_type": "code",
   "execution_count": 11,
   "id": "dda9d93e",
   "metadata": {},
   "outputs": [
    {
     "data": {
      "text/plain": [
       "Timestamp('2011-12-09 12:50:00')"
      ]
     },
     "execution_count": 11,
     "metadata": {},
     "output_type": "execute_result"
    }
   ],
   "source": [
    "df['InvoiceDate'].max()"
   ]
  },
  {
   "cell_type": "code",
   "execution_count": 12,
   "id": "b51c8c5d",
   "metadata": {},
   "outputs": [
    {
     "data": {
      "text/plain": [
       "Timestamp('2010-12-01 08:26:00')"
      ]
     },
     "execution_count": 12,
     "metadata": {},
     "output_type": "execute_result"
    }
   ],
   "source": [
    "df['InvoiceDate'].min()"
   ]
  },
  {
   "cell_type": "code",
   "execution_count": 13,
   "id": "def7e98c",
   "metadata": {},
   "outputs": [],
   "source": [
    "df.dropna(axis=0,inplace=True)"
   ]
  },
  {
   "cell_type": "code",
   "execution_count": 14,
   "id": "790693f6",
   "metadata": {},
   "outputs": [
    {
     "data": {
      "text/plain": [
       "InvoiceNo      0\n",
       "StockCode      0\n",
       "Quantity       0\n",
       "InvoiceDate    0\n",
       "UnitPrice      0\n",
       "CustomerID     0\n",
       "Country        0\n",
       "dtype: int64"
      ]
     },
     "execution_count": 14,
     "metadata": {},
     "output_type": "execute_result"
    }
   ],
   "source": [
    "df.isnull().sum()"
   ]
  },
  {
   "cell_type": "code",
   "execution_count": 15,
   "id": "62dc7254",
   "metadata": {},
   "outputs": [
    {
     "data": {
      "text/plain": [
       "(406829, 7)"
      ]
     },
     "execution_count": 15,
     "metadata": {},
     "output_type": "execute_result"
    }
   ],
   "source": [
    "df.shape"
   ]
  },
  {
   "cell_type": "code",
   "execution_count": 16,
   "id": "14d20aca",
   "metadata": {},
   "outputs": [],
   "source": [
    "df_s = df.sample(100000, random_state=42)#taking a sample of 100000 transactions"
   ]
  },
  {
   "cell_type": "code",
   "execution_count": 17,
   "id": "06dc9eb2",
   "metadata": {},
   "outputs": [],
   "source": [
    "df_s[\"InvoiceDate\"]=df_s[\"InvoiceDate\"].dt.date"
   ]
  },
  {
   "cell_type": "code",
   "execution_count": 18,
   "id": "82d65b51",
   "metadata": {},
   "outputs": [],
   "source": [
    "df_s['TotalAmount']=df_s['Quantity']* df_s['UnitPrice']"
   ]
  },
  {
   "cell_type": "code",
   "execution_count": 19,
   "id": "11b5d291",
   "metadata": {},
   "outputs": [],
   "source": [
    "ref_date=df_s['InvoiceDate'].max() + datetime.timedelta(days=1)"
   ]
  },
  {
   "cell_type": "markdown",
   "id": "395c1e40",
   "metadata": {},
   "source": [
    "### Using RFM framework for clustering "
   ]
  },
  {
   "cell_type": "code",
   "execution_count": 20,
   "id": "a58845cc",
   "metadata": {},
   "outputs": [],
   "source": [
    "customers=df_s.groupby(['CustomerID']).agg({'InvoiceDate': lambda x: (ref_date - x.max()).days,\n",
    "                                            'InvoiceNo': 'count','TotalAmount': 'sum'})"
   ]
  },
  {
   "cell_type": "code",
   "execution_count": 21,
   "id": "389dd6e1",
   "metadata": {},
   "outputs": [],
   "source": [
    "customers.rename(columns = {'InvoiceDate': 'Recency','InvoiceNo': 'Frequency','TotalAmount': 'MonetaryValue'}, inplace=True)"
   ]
  },
  {
   "cell_type": "code",
   "execution_count": 22,
   "id": "bbf29c8a",
   "metadata": {},
   "outputs": [
    {
     "data": {
      "text/html": [
       "<div>\n",
       "<style scoped>\n",
       "    .dataframe tbody tr th:only-of-type {\n",
       "        vertical-align: middle;\n",
       "    }\n",
       "\n",
       "    .dataframe tbody tr th {\n",
       "        vertical-align: top;\n",
       "    }\n",
       "\n",
       "    .dataframe thead th {\n",
       "        text-align: right;\n",
       "    }\n",
       "</style>\n",
       "<table border=\"1\" class=\"dataframe\">\n",
       "  <thead>\n",
       "    <tr style=\"text-align: right;\">\n",
       "      <th></th>\n",
       "      <th>Recency</th>\n",
       "      <th>Frequency</th>\n",
       "      <th>MonetaryValue</th>\n",
       "    </tr>\n",
       "  </thead>\n",
       "  <tbody>\n",
       "    <tr>\n",
       "      <th>count</th>\n",
       "      <td>4182.000000</td>\n",
       "      <td>4182.000000</td>\n",
       "      <td>4182.000000</td>\n",
       "    </tr>\n",
       "    <tr>\n",
       "      <th>mean</th>\n",
       "      <td>94.357006</td>\n",
       "      <td>23.912004</td>\n",
       "      <td>487.938946</td>\n",
       "    </tr>\n",
       "    <tr>\n",
       "      <th>std</th>\n",
       "      <td>100.543912</td>\n",
       "      <td>58.732489</td>\n",
       "      <td>2145.097244</td>\n",
       "    </tr>\n",
       "    <tr>\n",
       "      <th>min</th>\n",
       "      <td>1.000000</td>\n",
       "      <td>1.000000</td>\n",
       "      <td>-14761.900000</td>\n",
       "    </tr>\n",
       "    <tr>\n",
       "      <th>25%</th>\n",
       "      <td>19.000000</td>\n",
       "      <td>5.000000</td>\n",
       "      <td>69.842500</td>\n",
       "    </tr>\n",
       "    <tr>\n",
       "      <th>50%</th>\n",
       "      <td>52.000000</td>\n",
       "      <td>11.000000</td>\n",
       "      <td>168.270000</td>\n",
       "    </tr>\n",
       "    <tr>\n",
       "      <th>75%</th>\n",
       "      <td>148.000000</td>\n",
       "      <td>26.000000</td>\n",
       "      <td>417.522500</td>\n",
       "    </tr>\n",
       "    <tr>\n",
       "      <th>max</th>\n",
       "      <td>374.000000</td>\n",
       "      <td>1962.000000</td>\n",
       "      <td>69930.240000</td>\n",
       "    </tr>\n",
       "  </tbody>\n",
       "</table>\n",
       "</div>"
      ],
      "text/plain": [
       "           Recency    Frequency  MonetaryValue\n",
       "count  4182.000000  4182.000000    4182.000000\n",
       "mean     94.357006    23.912004     487.938946\n",
       "std     100.543912    58.732489    2145.097244\n",
       "min       1.000000     1.000000  -14761.900000\n",
       "25%      19.000000     5.000000      69.842500\n",
       "50%      52.000000    11.000000     168.270000\n",
       "75%     148.000000    26.000000     417.522500\n",
       "max     374.000000  1962.000000   69930.240000"
      ]
     },
     "execution_count": 22,
     "metadata": {},
     "output_type": "execute_result"
    }
   ],
   "source": [
    "customers.describe()"
   ]
  },
  {
   "cell_type": "code",
   "execution_count": 23,
   "id": "7b734299",
   "metadata": {},
   "outputs": [],
   "source": [
    "customers=customers[customers['MonetaryValue']>0]"
   ]
  },
  {
   "cell_type": "code",
   "execution_count": 24,
   "id": "570c7ee5",
   "metadata": {},
   "outputs": [
    {
     "data": {
      "image/png": "[encoded data removed]",
      "text/plain": [
       "<Figure size 1080x216 with 3 Axes>"
      ]
     },
     "metadata": {
      "needs_background": "light"
     },
     "output_type": "display_data"
    }
   ],
   "source": [
    "cols = [col for col in customers.columns]\n",
    "\n",
    "plt.figure(figsize=[15,3])\n",
    "for i in range(3):\n",
    "    plt.subplot(1,3,i+1)\n",
    "    sns.distplot(customers[cols[i]])\n",
    "plt.tight_layout()\n",
    "plt.show()"
   ]
  },
  {
   "cell_type": "markdown",
   "id": "013ea033",
   "metadata": {},
   "source": [
    "Distribution is not normal thus we need to use transformations"
   ]
  },
  {
   "cell_type": "code",
   "execution_count": 25,
   "id": "758d70f3",
   "metadata": {},
   "outputs": [
    {
     "data": {
      "image/png": "[encoded data removed]",
      "text/plain": [
       "<Figure size 1080x216 with 3 Axes>"
      ]
     },
     "metadata": {
      "needs_background": "light"
     },
     "output_type": "display_data"
    },
    {
     "data": {
      "image/png": "[encoded data removed]",
      "text/plain": [
       "<Figure size 1080x216 with 3 Axes>"
      ]
     },
     "metadata": {
      "needs_background": "light"
     },
     "output_type": "display_data"
    },
    {
     "data": {
      "image/png": "[encoded data removed]",
      "text/plain": [
       "<Figure size 1080x216 with 3 Axes>"
      ]
     },
     "metadata": {
      "needs_background": "light"
     },
     "output_type": "display_data"
    }
   ],
   "source": [
    "cutomers_log=customers.copy(deep=True)\n",
    "cutomers_sqrt=customers.copy(deep=True)\n",
    "cutomers_cbrt=customers.copy(deep=True)\n",
    "cutomers_bxcx=customers.copy(deep=True)\n",
    "\n",
    "for i in customers.columns:\n",
    "    cutomers_log[i] = np.log(customers[i])\n",
    "    cutomers_sqrt[i] = np.sqrt(customers[i])\n",
    "    cutomers_cbrt[i] = np.cbrt(customers[i])\n",
    "    if i!='MonetaryValue':\n",
    "        cutomers_bxcx[i] = stats.boxcox(customers[i])[0]\n",
    "        \n",
    "plt.figure(figsize=[15,3])\n",
    "for i in range(3):\n",
    "    plt.subplot(1,3,i+1)\n",
    "    sns.distplot(cutomers_log[cols[i]])\n",
    "    plt.title('Log Transformed - {}'.format(cols[i]))\n",
    "plt.tight_layout()\n",
    "plt.show()\n",
    "\n",
    "plt.figure(figsize=[15,3])\n",
    "for i in range(3):\n",
    "    plt.subplot(1,3,i+1)\n",
    "    sns.distplot(cutomers_sqrt[cols[i]])\n",
    "    plt.title('Sqrt Transformed - {}'.format(cols[i]))\n",
    "plt.tight_layout()\n",
    "plt.show()\n",
    "\n",
    "plt.figure(figsize=[15,3])\n",
    "for i in range(2):\n",
    "    plt.subplot(1,3,i+1)\n",
    "    sns.distplot(cutomers_bxcx[cols[i]])\n",
    "    plt.title('Boxcox Transformed - {}'.format(cols[i]))\n",
    "plt.subplot(1,3,3)\n",
    "sns.distplot(cutomers_cbrt[cols[2]])\n",
    "plt.title('Cube Root Transformed - {}'.format(cols[2]))\n",
    "plt.tight_layout()\n",
    "plt.show()"
   ]
  },
  {
   "cell_type": "markdown",
   "id": "ce2dee8f",
   "metadata": {},
   "source": [
    "We see that square root works for recency and frequency while log transformation works best for MonetaryValue"
   ]
  },
  {
   "cell_type": "code",
   "execution_count": 34,
   "id": "58d1023e",
   "metadata": {},
   "outputs": [
    {
     "data": {
      "text/html": [
       "<div>\n",
       "<style scoped>\n",
       "    .dataframe tbody tr th:only-of-type {\n",
       "        vertical-align: middle;\n",
       "    }\n",
       "\n",
       "    .dataframe tbody tr th {\n",
       "        vertical-align: top;\n",
       "    }\n",
       "\n",
       "    .dataframe thead th {\n",
       "        text-align: right;\n",
       "    }\n",
       "</style>\n",
       "<table border=\"1\" class=\"dataframe\">\n",
       "  <thead>\n",
       "    <tr style=\"text-align: right;\">\n",
       "      <th></th>\n",
       "      <th>Recency</th>\n",
       "      <th>Frequency</th>\n",
       "      <th>MonetaryValue</th>\n",
       "    </tr>\n",
       "  </thead>\n",
       "  <tbody>\n",
       "    <tr>\n",
       "      <th>0</th>\n",
       "      <td>1.202463</td>\n",
       "      <td>3.615536</td>\n",
       "      <td>6.934300</td>\n",
       "    </tr>\n",
       "    <tr>\n",
       "      <th>1</th>\n",
       "      <td>6.277827</td>\n",
       "      <td>1.918763</td>\n",
       "      <td>6.137813</td>\n",
       "    </tr>\n",
       "    <tr>\n",
       "      <th>2</th>\n",
       "      <td>3.773216</td>\n",
       "      <td>3.022917</td>\n",
       "      <td>6.514787</td>\n",
       "    </tr>\n",
       "    <tr>\n",
       "      <th>3</th>\n",
       "      <td>9.470812</td>\n",
       "      <td>1.372479</td>\n",
       "      <td>4.105944</td>\n",
       "    </tr>\n",
       "    <tr>\n",
       "      <th>4</th>\n",
       "      <td>4.907295</td>\n",
       "      <td>3.145045</td>\n",
       "      <td>5.819103</td>\n",
       "    </tr>\n",
       "  </tbody>\n",
       "</table>\n",
       "</div>"
      ],
      "text/plain": [
       "    Recency  Frequency  MonetaryValue\n",
       "0  1.202463   3.615536       6.934300\n",
       "1  6.277827   1.918763       6.137813\n",
       "2  3.773216   3.022917       6.514787\n",
       "3  9.470812   1.372479       4.105944\n",
       "4  4.907295   3.145045       5.819103"
      ]
     },
     "execution_count": 34,
     "metadata": {},
     "output_type": "execute_result"
    }
   ],
   "source": [
    "customers_tf = pd.DataFrame()\n",
    "customers_tf[\"Recency\"] = stats.boxcox(customers['Recency'])[0]\n",
    "customers_tf[\"Frequency\"] = stats.boxcox(customers['Frequency'])[0]\n",
    "customers_tf[\"MonetaryValue\"] = pd.Series(np.log(customers['MonetaryValue'])).values\n",
    "customers_tf.head()"
   ]
  },
  {
   "cell_type": "code",
   "execution_count": 35,
   "id": "ae19eb7e",
   "metadata": {},
   "outputs": [],
   "source": [
    "scaler=StandardScaler()\n",
    "customers_norm=scaler.fit_transform(customers_tf)"
   ]
  },
  {
   "cell_type": "markdown",
   "id": "6740eafe",
   "metadata": {},
   "source": [
    "### Using elbow method to find optimum number of clusters "
   ]
  },
  {
   "cell_type": "code",
   "execution_count": 36,
   "id": "23e71783",
   "metadata": {},
   "outputs": [
    {
     "data": {
      "image/png": "[encoded data removed]",
      "text/plain": [
       "<Figure size 720x360 with 1 Axes>"
      ]
     },
     "metadata": {
      "needs_background": "light"
     },
     "output_type": "display_data"
    }
   ],
   "source": [
    "sse = {}\n",
    "for k in range(1, 16):\n",
    "    kmeans = KMeans(n_clusters=k, random_state=42)\n",
    "    kmeans.fit(customers_norm)\n",
    "    sse[k] = kmeans.inertia_\n",
    "   \n",
    "plt.figure(figsize=[10,5])\n",
    "plt.title('The Elbow Method')\n",
    "plt.xlabel('k')\n",
    "plt.ylabel('SSE')\n",
    "sns.pointplot(x=list(sse.keys()), y=list(sse.values()))\n",
    "plt.show()"
   ]
  },
  {
   "cell_type": "markdown",
   "id": "09bbb84a",
   "metadata": {},
   "source": [
    "k=3 is the optimum value"
   ]
  },
  {
   "cell_type": "code",
   "execution_count": 37,
   "id": "cd344811",
   "metadata": {},
   "outputs": [
    {
     "data": {
      "text/plain": [
       "KMeans(n_clusters=3, random_state=42)"
      ]
     },
     "execution_count": 37,
     "metadata": {},
     "output_type": "execute_result"
    }
   ],
   "source": [
    "model = KMeans(n_clusters=3, random_state=42)\n",
    "model.fit(customers_norm)"
   ]
  },
  {
   "cell_type": "code",
   "execution_count": 38,
   "id": "389b03b1",
   "metadata": {},
   "outputs": [],
   "source": [
    "df_norm= pd.DataFrame(customers_norm, columns=['Recency', 'Frequency', 'MonetaryValue'])\n",
    "df_norm['ID'] = customers.index\n",
    "df_norm['Cluster'] = model.labels_"
   ]
  },
  {
   "cell_type": "code",
   "execution_count": 39,
   "id": "28251de2",
   "metadata": {},
   "outputs": [
    {
     "data": {
      "text/html": [
       "<div>\n",
       "<style scoped>\n",
       "    .dataframe tbody tr th:only-of-type {\n",
       "        vertical-align: middle;\n",
       "    }\n",
       "\n",
       "    .dataframe tbody tr th {\n",
       "        vertical-align: top;\n",
       "    }\n",
       "\n",
       "    .dataframe thead th {\n",
       "        text-align: right;\n",
       "    }\n",
       "</style>\n",
       "<table border=\"1\" class=\"dataframe\">\n",
       "  <thead>\n",
       "    <tr style=\"text-align: right;\">\n",
       "      <th></th>\n",
       "      <th>ID</th>\n",
       "      <th>Cluster</th>\n",
       "      <th>Attribute</th>\n",
       "      <th>Value</th>\n",
       "    </tr>\n",
       "  </thead>\n",
       "  <tbody>\n",
       "    <tr>\n",
       "      <th>0</th>\n",
       "      <td>12347.0</td>\n",
       "      <td>0</td>\n",
       "      <td>Recency</td>\n",
       "      <td>-1.744650</td>\n",
       "    </tr>\n",
       "    <tr>\n",
       "      <th>1</th>\n",
       "      <td>12348.0</td>\n",
       "      <td>2</td>\n",
       "      <td>Recency</td>\n",
       "      <td>0.291604</td>\n",
       "    </tr>\n",
       "    <tr>\n",
       "      <th>2</th>\n",
       "      <td>12349.0</td>\n",
       "      <td>0</td>\n",
       "      <td>Recency</td>\n",
       "      <td>-0.713254</td>\n",
       "    </tr>\n",
       "    <tr>\n",
       "      <th>3</th>\n",
       "      <td>12350.0</td>\n",
       "      <td>1</td>\n",
       "      <td>Recency</td>\n",
       "      <td>1.572642</td>\n",
       "    </tr>\n",
       "    <tr>\n",
       "      <th>4</th>\n",
       "      <td>12352.0</td>\n",
       "      <td>2</td>\n",
       "      <td>Recency</td>\n",
       "      <td>-0.258258</td>\n",
       "    </tr>\n",
       "  </tbody>\n",
       "</table>\n",
       "</div>"
      ],
      "text/plain": [
       "        ID  Cluster Attribute     Value\n",
       "0  12347.0        0   Recency -1.744650\n",
       "1  12348.0        2   Recency  0.291604\n",
       "2  12349.0        0   Recency -0.713254\n",
       "3  12350.0        1   Recency  1.572642\n",
       "4  12352.0        2   Recency -0.258258"
      ]
     },
     "execution_count": 39,
     "metadata": {},
     "output_type": "execute_result"
    }
   ],
   "source": [
    "df_norm_melt = pd.melt(df_norm.reset_index(),\n",
    "                      id_vars=['ID', 'Cluster'],\n",
    "                      value_vars=['Recency','Frequency','MonetaryValue'],\n",
    "                      var_name='Attribute',\n",
    "                      value_name='Value')\n",
    "df_norm_melt.head()"
   ]
  },
  {
   "cell_type": "code",
   "execution_count": 42,
   "id": "85c60c66",
   "metadata": {},
   "outputs": [
    {
     "data": {
      "text/plain": [
       "(4143, 3)"
      ]
     },
     "execution_count": 42,
     "metadata": {},
     "output_type": "execute_result"
    }
   ],
   "source": [
    "customers.shape"
   ]
  },
  {
   "cell_type": "code",
   "execution_count": 40,
   "id": "eaf4d91c",
   "metadata": {},
   "outputs": [
    {
     "data": {
      "image/png": "[encoded data removed]",
      "text/plain": [
       "<Figure size 432x288 with 1 Axes>"
      ]
     },
     "metadata": {
      "needs_background": "light"
     },
     "output_type": "display_data"
    }
   ],
   "source": [
    "sns.lineplot('Attribute', 'Value', hue='Cluster', data=df_norm_melt)\n",
    "plt.show()"
   ]
  },
  {
   "cell_type": "code",
   "execution_count": 41,
   "id": "f31aa36a",
   "metadata": {},
   "outputs": [
    {
     "data": {
      "text/plain": [
       "2    1757\n",
       "1    1278\n",
       "0    1108\n",
       "Name: Cluster, dtype: int64"
      ]
     },
     "execution_count": 41,
     "metadata": {},
     "output_type": "execute_result"
    }
   ],
   "source": [
    "df_norm['Cluster'].value_counts()"
   ]
  },
  {
   "cell_type": "markdown",
   "id": "80987db9",
   "metadata": {},
   "source": [
    "The customers are divided into 3 clusters:\n",
    "\n",
    "Cluster 0- These are the customers who have bought recently and are frequent buyers with high monetary value.These can be classified as loyal customers.1108 customers belong to this cluster.\n",
    "\n",
    "Cluster 1- These are the customers who have bought anything in a long while. These are less frequent buyers with low transaction amount.These can be considered as churned customers.1278 customers belong to this cluster.\n",
    "\n",
    "Cluster 2- These are the customers who have bought goods fairly recently with an average frequency and transaction amount.1757 customers belong to this cluster.In terms of loyalty, these customers lie somewhere in between Cluster 0 and Cluster 1."
   ]
  },
  {
   "cell_type": "code",
   "execution_count": null,
   "id": "6c371f31",
   "metadata": {},
   "outputs": [],
   "source": []
  }
 ],
 "metadata": {
  "kernelspec": {
   "display_name": "Python 3 (ipykernel)",
   "language": "python",
   "name": "python3"
  },
  "language_info": {
   "codemirror_mode": {
    "name": "ipython",
    "version": 3
   },
   "file_extension": ".py",
   "mimetype": "text/x-python",
   "name": "python",
   "nbconvert_exporter": "python",
   "pygments_lexer": "ipython3",
   "version": "3.9.0"
  }
 },
 "nbformat": 4,
 "nbformat_minor": 5
}
